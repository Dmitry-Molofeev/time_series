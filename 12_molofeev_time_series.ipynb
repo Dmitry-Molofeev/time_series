{
 "cells": [
  {
   "cell_type": "markdown",
   "metadata": {},
   "source": [
    "# Определение стоимости автомобилей"
   ]
  },
  {
   "cell_type": "markdown",
   "metadata": {},
   "source": [
    "Сервис по продаже автомобилей с пробегом «Не бит, не крашен» разрабатывает приложение для привлечения новых клиентов. В нём можно быстро узнать рыночную стоимость своего автомобиля. В вашем распоряжении исторические данные: технические характеристики, комплектации и цены автомобилей. Вам нужно построить модель для определения стоимости. \n",
    "\n",
    "Заказчику важны:\n",
    "\n",
    "- качество предсказания;\n",
    "- скорость предсказания;\n",
    "- время обучения."
   ]
  },
  {
   "cell_type": "markdown",
   "metadata": {},
   "source": [
    "**Примечания:**\n",
    "\n",
    "Для оценки качества моделей следует применять метрику RMSE.\n",
    "\n",
    "Необходимо самостоятельно освоить библиотеку LightGBM и её средствами построить модели градиентного бустинга.\n",
    "\n",
    "Время выполнения ячейки кода Jupyter Notebook можно получить специальной командой. Необходимо найти её.\n",
    "\n",
    "Поскольку модель градиентного бустинга может обучаться долго, изменить у неё следует только два-три параметра.\n",
    "\n",
    "Если перестанет работать Jupyter Notebook, можно удалить лишние переменные оператором *del* `del features_train`\n",
    "\n",
    "**Описание данных**\n",
    "\n",
    "Данные находятся в файле /datasets/autos.csv.\n",
    "\n",
    "**Признаки:**\n",
    "- DateCrawled — дата скачивания анкеты из базы\n",
    "- VehicleType — тип автомобильного кузова\n",
    "- RegistrationYear — год регистрации автомобиля\n",
    "- Gearbox — тип коробки передач\n",
    "- Power — мощность (л. с.)\n",
    "- Model — модель автомобиля\n",
    "- Kilometer — пробег (км)\n",
    "- RegistrationMonth — месяц регистрации автомобиля\n",
    "- FuelType — тип топлива\n",
    "- Brand — марка автомобиля\n",
    "- NotRepaired — была машина в ремонте или нет\n",
    "- DateCreated — дата создания анкеты\n",
    "- NumberOfPictures — количество фотографий автомобиля\n",
    "- PostalCode — почтовый индекс владельца анкеты (пользователя)\n",
    "- LastSeen — дата последней активности пользователя\n",
    "\n",
    "**Целевой признак:**\n",
    "\n",
    "Price — цена (евро)\n",
    "\n",
    "**Цель проекта.**\n",
    "\n",
    "Создать модель, которая будет определять стоимость автомобиля, при этом ключевыми факторами является качество (определяемое метрикой RMSE), а таке скорость обучения и скорость предсказания.\n",
    "\n",
    "**План работы.**\n",
    "\n",
    "1. Загрузить данные и провести предобработку.\n",
    "2. Провести обучение моделей с использованием различных наборов гиперпараметров.\n",
    "3. Провести анализ скорости и качества работы моделей, выбрать лучшую модель по результатам метрики RMSE и времени работы.\n",
    "4. Оформить проект и написать выводы."
   ]
  },
  {
   "cell_type": "markdown",
   "metadata": {},
   "source": [
    "## Подготовка данных"
   ]
  },
  {
   "cell_type": "markdown",
   "metadata": {},
   "source": [
    "Предварительно загрузим необходимые для работы библиотеки. "
   ]
  },
  {
   "cell_type": "code",
   "execution_count": 1,
   "metadata": {},
   "outputs": [],
   "source": [
    "import matplotlib.pyplot as plt\n",
    "import numpy as np\n",
    "import pandas as pd\n",
    "import warnings\n",
    "from sklearn.model_selection import cross_val_score, KFold, GridSearchCV, train_test_split\n",
    "from sklearn.preprocessing import StandardScaler\n",
    "from sklearn.metrics import mean_squared_error\n",
    "from sklearn.preprocessing import PolynomialFeatures, OrdinalEncoder, OneHotEncoder, StandardScaler \n",
    "from sklearn.linear_model import LinearRegression, Ridge\n",
    "from sklearn.tree import DecisionTreeRegressor\n",
    "from sklearn.ensemble import ExtraTreesRegressor\n",
    "from catboost import Pool, CatBoostRegressor, cv\n",
    "from lightgbm import LGBMRegressor\n",
    "from sklearn.pipeline import Pipeline\n",
    "warnings.filterwarnings('ignore')\n",
    "import time"
   ]
  },
  {
   "cell_type": "markdown",
   "metadata": {},
   "source": [
    "Теперь закрузим датасет и взглянем на него."
   ]
  },
  {
   "cell_type": "code",
   "execution_count": 2,
   "metadata": {},
   "outputs": [
    {
     "name": "stdout",
     "output_type": "stream",
     "text": [
      "<class 'pandas.core.frame.DataFrame'>\n",
      "RangeIndex: 354369 entries, 0 to 354368\n",
      "Data columns (total 16 columns):\n",
      " #   Column             Non-Null Count   Dtype \n",
      "---  ------             --------------   ----- \n",
      " 0   DateCrawled        354369 non-null  object\n",
      " 1   Price              354369 non-null  int64 \n",
      " 2   VehicleType        316879 non-null  object\n",
      " 3   RegistrationYear   354369 non-null  int64 \n",
      " 4   Gearbox            334536 non-null  object\n",
      " 5   Power              354369 non-null  int64 \n",
      " 6   Model              334664 non-null  object\n",
      " 7   Kilometer          354369 non-null  int64 \n",
      " 8   RegistrationMonth  354369 non-null  int64 \n",
      " 9   FuelType           321474 non-null  object\n",
      " 10  Brand              354369 non-null  object\n",
      " 11  Repaired           283215 non-null  object\n",
      " 12  DateCreated        354369 non-null  object\n",
      " 13  NumberOfPictures   354369 non-null  int64 \n",
      " 14  PostalCode         354369 non-null  int64 \n",
      " 15  LastSeen           354369 non-null  object\n",
      "dtypes: int64(7), object(9)\n",
      "memory usage: 43.3+ MB\n"
     ]
    },
    {
     "data": {
      "text/plain": [
       "None"
      ]
     },
     "metadata": {},
     "output_type": "display_data"
    },
    {
     "data": {
      "text/html": [
       "<div>\n",
       "<style scoped>\n",
       "    .dataframe tbody tr th:only-of-type {\n",
       "        vertical-align: middle;\n",
       "    }\n",
       "\n",
       "    .dataframe tbody tr th {\n",
       "        vertical-align: top;\n",
       "    }\n",
       "\n",
       "    .dataframe thead th {\n",
       "        text-align: right;\n",
       "    }\n",
       "</style>\n",
       "<table border=\"1\" class=\"dataframe\">\n",
       "  <thead>\n",
       "    <tr style=\"text-align: right;\">\n",
       "      <th></th>\n",
       "      <th>Price</th>\n",
       "      <th>RegistrationYear</th>\n",
       "      <th>Power</th>\n",
       "      <th>Kilometer</th>\n",
       "      <th>RegistrationMonth</th>\n",
       "      <th>NumberOfPictures</th>\n",
       "      <th>PostalCode</th>\n",
       "    </tr>\n",
       "  </thead>\n",
       "  <tbody>\n",
       "    <tr>\n",
       "      <th>count</th>\n",
       "      <td>354369.000000</td>\n",
       "      <td>354369.000000</td>\n",
       "      <td>354369.000000</td>\n",
       "      <td>354369.000000</td>\n",
       "      <td>354369.000000</td>\n",
       "      <td>354369.0</td>\n",
       "      <td>354369.000000</td>\n",
       "    </tr>\n",
       "    <tr>\n",
       "      <th>mean</th>\n",
       "      <td>4416.656776</td>\n",
       "      <td>2004.234448</td>\n",
       "      <td>110.094337</td>\n",
       "      <td>128211.172535</td>\n",
       "      <td>5.714645</td>\n",
       "      <td>0.0</td>\n",
       "      <td>50508.689087</td>\n",
       "    </tr>\n",
       "    <tr>\n",
       "      <th>std</th>\n",
       "      <td>4514.158514</td>\n",
       "      <td>90.227958</td>\n",
       "      <td>189.850405</td>\n",
       "      <td>37905.341530</td>\n",
       "      <td>3.726421</td>\n",
       "      <td>0.0</td>\n",
       "      <td>25783.096248</td>\n",
       "    </tr>\n",
       "    <tr>\n",
       "      <th>min</th>\n",
       "      <td>0.000000</td>\n",
       "      <td>1000.000000</td>\n",
       "      <td>0.000000</td>\n",
       "      <td>5000.000000</td>\n",
       "      <td>0.000000</td>\n",
       "      <td>0.0</td>\n",
       "      <td>1067.000000</td>\n",
       "    </tr>\n",
       "    <tr>\n",
       "      <th>25%</th>\n",
       "      <td>1050.000000</td>\n",
       "      <td>1999.000000</td>\n",
       "      <td>69.000000</td>\n",
       "      <td>125000.000000</td>\n",
       "      <td>3.000000</td>\n",
       "      <td>0.0</td>\n",
       "      <td>30165.000000</td>\n",
       "    </tr>\n",
       "    <tr>\n",
       "      <th>50%</th>\n",
       "      <td>2700.000000</td>\n",
       "      <td>2003.000000</td>\n",
       "      <td>105.000000</td>\n",
       "      <td>150000.000000</td>\n",
       "      <td>6.000000</td>\n",
       "      <td>0.0</td>\n",
       "      <td>49413.000000</td>\n",
       "    </tr>\n",
       "    <tr>\n",
       "      <th>75%</th>\n",
       "      <td>6400.000000</td>\n",
       "      <td>2008.000000</td>\n",
       "      <td>143.000000</td>\n",
       "      <td>150000.000000</td>\n",
       "      <td>9.000000</td>\n",
       "      <td>0.0</td>\n",
       "      <td>71083.000000</td>\n",
       "    </tr>\n",
       "    <tr>\n",
       "      <th>max</th>\n",
       "      <td>20000.000000</td>\n",
       "      <td>9999.000000</td>\n",
       "      <td>20000.000000</td>\n",
       "      <td>150000.000000</td>\n",
       "      <td>12.000000</td>\n",
       "      <td>0.0</td>\n",
       "      <td>99998.000000</td>\n",
       "    </tr>\n",
       "  </tbody>\n",
       "</table>\n",
       "</div>"
      ],
      "text/plain": [
       "               Price  RegistrationYear          Power      Kilometer  \\\n",
       "count  354369.000000     354369.000000  354369.000000  354369.000000   \n",
       "mean     4416.656776       2004.234448     110.094337  128211.172535   \n",
       "std      4514.158514         90.227958     189.850405   37905.341530   \n",
       "min         0.000000       1000.000000       0.000000    5000.000000   \n",
       "25%      1050.000000       1999.000000      69.000000  125000.000000   \n",
       "50%      2700.000000       2003.000000     105.000000  150000.000000   \n",
       "75%      6400.000000       2008.000000     143.000000  150000.000000   \n",
       "max     20000.000000       9999.000000   20000.000000  150000.000000   \n",
       "\n",
       "       RegistrationMonth  NumberOfPictures     PostalCode  \n",
       "count      354369.000000          354369.0  354369.000000  \n",
       "mean            5.714645               0.0   50508.689087  \n",
       "std             3.726421               0.0   25783.096248  \n",
       "min             0.000000               0.0    1067.000000  \n",
       "25%             3.000000               0.0   30165.000000  \n",
       "50%             6.000000               0.0   49413.000000  \n",
       "75%             9.000000               0.0   71083.000000  \n",
       "max            12.000000               0.0   99998.000000  "
      ]
     },
     "metadata": {},
     "output_type": "display_data"
    },
    {
     "data": {
      "text/html": [
       "<div>\n",
       "<style scoped>\n",
       "    .dataframe tbody tr th:only-of-type {\n",
       "        vertical-align: middle;\n",
       "    }\n",
       "\n",
       "    .dataframe tbody tr th {\n",
       "        vertical-align: top;\n",
       "    }\n",
       "\n",
       "    .dataframe thead th {\n",
       "        text-align: right;\n",
       "    }\n",
       "</style>\n",
       "<table border=\"1\" class=\"dataframe\">\n",
       "  <thead>\n",
       "    <tr style=\"text-align: right;\">\n",
       "      <th></th>\n",
       "      <th>DateCrawled</th>\n",
       "      <th>Price</th>\n",
       "      <th>VehicleType</th>\n",
       "      <th>RegistrationYear</th>\n",
       "      <th>Gearbox</th>\n",
       "      <th>Power</th>\n",
       "      <th>Model</th>\n",
       "      <th>Kilometer</th>\n",
       "      <th>RegistrationMonth</th>\n",
       "      <th>FuelType</th>\n",
       "      <th>Brand</th>\n",
       "      <th>Repaired</th>\n",
       "      <th>DateCreated</th>\n",
       "      <th>NumberOfPictures</th>\n",
       "      <th>PostalCode</th>\n",
       "      <th>LastSeen</th>\n",
       "    </tr>\n",
       "  </thead>\n",
       "  <tbody>\n",
       "    <tr>\n",
       "      <th>0</th>\n",
       "      <td>2016-03-24 11:52:17</td>\n",
       "      <td>480</td>\n",
       "      <td>NaN</td>\n",
       "      <td>1993</td>\n",
       "      <td>manual</td>\n",
       "      <td>0</td>\n",
       "      <td>golf</td>\n",
       "      <td>150000</td>\n",
       "      <td>0</td>\n",
       "      <td>petrol</td>\n",
       "      <td>volkswagen</td>\n",
       "      <td>NaN</td>\n",
       "      <td>2016-03-24 00:00:00</td>\n",
       "      <td>0</td>\n",
       "      <td>70435</td>\n",
       "      <td>2016-04-07 03:16:57</td>\n",
       "    </tr>\n",
       "    <tr>\n",
       "      <th>1</th>\n",
       "      <td>2016-03-24 10:58:45</td>\n",
       "      <td>18300</td>\n",
       "      <td>coupe</td>\n",
       "      <td>2011</td>\n",
       "      <td>manual</td>\n",
       "      <td>190</td>\n",
       "      <td>NaN</td>\n",
       "      <td>125000</td>\n",
       "      <td>5</td>\n",
       "      <td>gasoline</td>\n",
       "      <td>audi</td>\n",
       "      <td>yes</td>\n",
       "      <td>2016-03-24 00:00:00</td>\n",
       "      <td>0</td>\n",
       "      <td>66954</td>\n",
       "      <td>2016-04-07 01:46:50</td>\n",
       "    </tr>\n",
       "    <tr>\n",
       "      <th>2</th>\n",
       "      <td>2016-03-14 12:52:21</td>\n",
       "      <td>9800</td>\n",
       "      <td>suv</td>\n",
       "      <td>2004</td>\n",
       "      <td>auto</td>\n",
       "      <td>163</td>\n",
       "      <td>grand</td>\n",
       "      <td>125000</td>\n",
       "      <td>8</td>\n",
       "      <td>gasoline</td>\n",
       "      <td>jeep</td>\n",
       "      <td>NaN</td>\n",
       "      <td>2016-03-14 00:00:00</td>\n",
       "      <td>0</td>\n",
       "      <td>90480</td>\n",
       "      <td>2016-04-05 12:47:46</td>\n",
       "    </tr>\n",
       "    <tr>\n",
       "      <th>3</th>\n",
       "      <td>2016-03-17 16:54:04</td>\n",
       "      <td>1500</td>\n",
       "      <td>small</td>\n",
       "      <td>2001</td>\n",
       "      <td>manual</td>\n",
       "      <td>75</td>\n",
       "      <td>golf</td>\n",
       "      <td>150000</td>\n",
       "      <td>6</td>\n",
       "      <td>petrol</td>\n",
       "      <td>volkswagen</td>\n",
       "      <td>no</td>\n",
       "      <td>2016-03-17 00:00:00</td>\n",
       "      <td>0</td>\n",
       "      <td>91074</td>\n",
       "      <td>2016-03-17 17:40:17</td>\n",
       "    </tr>\n",
       "    <tr>\n",
       "      <th>4</th>\n",
       "      <td>2016-03-31 17:25:20</td>\n",
       "      <td>3600</td>\n",
       "      <td>small</td>\n",
       "      <td>2008</td>\n",
       "      <td>manual</td>\n",
       "      <td>69</td>\n",
       "      <td>fabia</td>\n",
       "      <td>90000</td>\n",
       "      <td>7</td>\n",
       "      <td>gasoline</td>\n",
       "      <td>skoda</td>\n",
       "      <td>no</td>\n",
       "      <td>2016-03-31 00:00:00</td>\n",
       "      <td>0</td>\n",
       "      <td>60437</td>\n",
       "      <td>2016-04-06 10:17:21</td>\n",
       "    </tr>\n",
       "  </tbody>\n",
       "</table>\n",
       "</div>"
      ],
      "text/plain": [
       "           DateCrawled  Price VehicleType  RegistrationYear Gearbox  Power  \\\n",
       "0  2016-03-24 11:52:17    480         NaN              1993  manual      0   \n",
       "1  2016-03-24 10:58:45  18300       coupe              2011  manual    190   \n",
       "2  2016-03-14 12:52:21   9800         suv              2004    auto    163   \n",
       "3  2016-03-17 16:54:04   1500       small              2001  manual     75   \n",
       "4  2016-03-31 17:25:20   3600       small              2008  manual     69   \n",
       "\n",
       "   Model  Kilometer  RegistrationMonth  FuelType       Brand Repaired  \\\n",
       "0   golf     150000                  0    petrol  volkswagen      NaN   \n",
       "1    NaN     125000                  5  gasoline        audi      yes   \n",
       "2  grand     125000                  8  gasoline        jeep      NaN   \n",
       "3   golf     150000                  6    petrol  volkswagen       no   \n",
       "4  fabia      90000                  7  gasoline       skoda       no   \n",
       "\n",
       "           DateCreated  NumberOfPictures  PostalCode             LastSeen  \n",
       "0  2016-03-24 00:00:00                 0       70435  2016-04-07 03:16:57  \n",
       "1  2016-03-24 00:00:00                 0       66954  2016-04-07 01:46:50  \n",
       "2  2016-03-14 00:00:00                 0       90480  2016-04-05 12:47:46  \n",
       "3  2016-03-17 00:00:00                 0       91074  2016-03-17 17:40:17  \n",
       "4  2016-03-31 00:00:00                 0       60437  2016-04-06 10:17:21  "
      ]
     },
     "execution_count": 2,
     "metadata": {},
     "output_type": "execute_result"
    }
   ],
   "source": [
    "try:\n",
    "    df = pd.read_csv('https://code.s3.yandex.net/datasets/autos.csv')\n",
    "except:\n",
    "    df = pd.read_csv('D:/learn_data/autos.csv')\n",
    "\n",
    "display(df.info())\n",
    "display(df.describe())\n",
    "df.head()"
   ]
  },
  {
   "cell_type": "markdown",
   "metadata": {},
   "source": [
    "Как мы видим, в ряде признаков имеются как пропуски, так и явные аномалии, как например мощность 20000 л.с. Необходимо провести предобработку. Проверять датасет на дубликаты в данном случае не имеет смысла, поскольку среди более 300 тысяч объектов, вполне могут найтись автомобили с одинаковыми признаками и продаваемых по одной цене, а идентификационных признаки конкретного автомобиля у нас не имеется. Для начала взглянем на период создания анкет, которые мы используем для обучения моделей."
   ]
  },
  {
   "cell_type": "code",
   "execution_count": 3,
   "metadata": {},
   "outputs": [
    {
     "name": "stdout",
     "output_type": "stream",
     "text": [
      "2014-03-10 00:00:00\n",
      "2016-04-07 00:00:00\n"
     ]
    }
   ],
   "source": [
    "date = pd.to_datetime(df['DateCreated'])\n",
    "print(date.min())\n",
    "print(date.max())"
   ]
  },
  {
   "cell_type": "markdown",
   "metadata": {},
   "source": [
    "Как мы видим, база данных содежит анкеты, созданные в период с 2014 по 2016 год, с учетом того, что мы в 2023 году на основе этих данных планируем обучить модели, предсказывающие цену автомобиля, примем во внимание тот факт, что в данной работе не учитывается инфляция и другие параметры, влиющие на цену автомобиля с учетом времени (в реальной работе, полагаю, данный факт должен будет учитываться, но для нас это прощает дело)."
   ]
  },
  {
   "cell_type": "markdown",
   "metadata": {},
   "source": [
    "Определим, какие признаки влияют на цену автомобиля (сам прзнак цены - `Price` нам естественно также необходим):\n",
    "- VehicleType. Тип машины говорит о ее функционале, таким образом влияет на ее цену. \n",
    "- RegistrationYear. Год регистрации определяет сколько уже лет машина на ходу, то есть, чем больше ее возраст, тем меньше цена.\n",
    "- Gearbox. Наличие автоматической коробки передач повышает стоимость автомобиля из-за сложности конструкции и простоты управления.\n",
    "- Power. Мощность в лошадиных силах (далее л.с.) напрямую влияет на цену авто.\n",
    "- Model. В купе с типом машины и брендом также может влиять на популярность у покупателей.\n",
    "- Kilometer. Километраж обратно пропорционально влияет на цену, поскольку, чем больше километров проехала машина, тем больше ее износ и соответсвенно меньше цена.\n",
    "- FuelType. Тип топлива определяет конструкцию двигателя внутреннего сгорания и также имеет влияние на цену.\n",
    "- Brand. Компания, которая создала автомобиль, может указывать качество и надежность автомобиля, также имеет зачение бренд.\n",
    "- Repaired. Также влияет на цену машины, поскольку авто, которые побывали в дорожно-транспортных проишествиях, подвергались ремонту, а следовательно изменениям и их надежность ниже.\n",
    "\n",
    "Остальные столбцы - DateCrawled (дата скачивания анкеты из базы), RegistrationMonth (месяц регистраци авто), DateCreated (дата создания анкеты), NumberOfPictures (количество фтографий авто), PostalCode (почтовый индекс владельца анкеты), LastSeen (дата посленей активости пользователя) для модели не требуются, так как не влияют на стоимость."
   ]
  },
  {
   "cell_type": "code",
   "execution_count": 4,
   "metadata": {},
   "outputs": [
    {
     "name": "stdout",
     "output_type": "stream",
     "text": [
      "<class 'pandas.core.frame.DataFrame'>\n",
      "RangeIndex: 354369 entries, 0 to 354368\n",
      "Data columns (total 10 columns):\n",
      " #   Column            Non-Null Count   Dtype \n",
      "---  ------            --------------   ----- \n",
      " 0   Price             354369 non-null  int64 \n",
      " 1   VehicleType       316879 non-null  object\n",
      " 2   RegistrationYear  354369 non-null  int64 \n",
      " 3   Gearbox           334536 non-null  object\n",
      " 4   Power             354369 non-null  int64 \n",
      " 5   Model             334664 non-null  object\n",
      " 6   Kilometer         354369 non-null  int64 \n",
      " 7   FuelType          321474 non-null  object\n",
      " 8   Brand             354369 non-null  object\n",
      " 9   Repaired          283215 non-null  object\n",
      "dtypes: int64(4), object(6)\n",
      "memory usage: 27.0+ MB\n"
     ]
    }
   ],
   "source": [
    "df = df.drop(['DateCrawled', 'RegistrationMonth', 'DateCreated', 'NumberOfPictures', 'PostalCode', 'LastSeen'], axis=1) \n",
    "df.info()"
   ]
  },
  {
   "cell_type": "markdown",
   "metadata": {},
   "source": [
    "Теперь взглянем на пропуски в столбцах."
   ]
  },
  {
   "cell_type": "code",
   "execution_count": 5,
   "metadata": {
    "scrolled": false
   },
   "outputs": [
    {
     "data": {
      "text/plain": [
       "Price               0.000000\n",
       "VehicleType         0.105794\n",
       "RegistrationYear    0.000000\n",
       "Gearbox             0.055967\n",
       "Power               0.000000\n",
       "Model               0.055606\n",
       "Kilometer           0.000000\n",
       "FuelType            0.092827\n",
       "Brand               0.000000\n",
       "Repaired            0.200791\n",
       "dtype: float64"
      ]
     },
     "execution_count": 5,
     "metadata": {},
     "output_type": "execute_result"
    }
   ],
   "source": [
    "df.isna().mean()"
   ]
  },
  {
   "cell_type": "code",
   "execution_count": 6,
   "metadata": {},
   "outputs": [
    {
     "data": {
      "text/plain": [
       "no     247161\n",
       "yes     36054\n",
       "Name: Repaired, dtype: int64"
      ]
     },
     "execution_count": 6,
     "metadata": {},
     "output_type": "execute_result"
    }
   ],
   "source": [
    "df['Repaired'].value_counts()"
   ]
  },
  {
   "cell_type": "markdown",
   "metadata": {},
   "source": [
    "Теперь проведем замену пропусков в параметрах `Gearbox` (будем логично считать, что если пользователь не указал тип коробки передач как автоматический, значит стоит механическая), `Repaired` (будем считать, что не указание сведений о ремонте авто, указывает на отсутствие такового), `Model` (с учетом того, что модель нам неизвестна, так и обозначим ее)."
   ]
  },
  {
   "cell_type": "code",
   "execution_count": 7,
   "metadata": {},
   "outputs": [
    {
     "data": {
      "text/plain": [
       "Price               0.000000\n",
       "VehicleType         0.105794\n",
       "RegistrationYear    0.000000\n",
       "Gearbox             0.000000\n",
       "Power               0.000000\n",
       "Model               0.000000\n",
       "Kilometer           0.000000\n",
       "FuelType            0.092827\n",
       "Brand               0.000000\n",
       "Repaired            0.000000\n",
       "dtype: float64"
      ]
     },
     "execution_count": 7,
     "metadata": {},
     "output_type": "execute_result"
    }
   ],
   "source": [
    "df.fillna({'Gearbox':'manual',\n",
    "           'Repaired':'no',\n",
    "           'Model':'unknown'},\n",
    "          inplace=True)\n",
    "df.isna().mean()"
   ]
  },
  {
   "cell_type": "markdown",
   "metadata": {},
   "source": [
    "Что касается пропусков в типе кузова и типе топлива, с учетом отсутствия данных, предлагаем оставшиеся пропуски удалить."
   ]
  },
  {
   "cell_type": "code",
   "execution_count": 8,
   "metadata": {},
   "outputs": [
    {
     "data": {
      "text/plain": [
       "array([nan, 'coupe', 'suv', 'small', 'sedan', 'convertible', 'bus',\n",
       "       'wagon', 'other'], dtype=object)"
      ]
     },
     "execution_count": 8,
     "metadata": {},
     "output_type": "execute_result"
    }
   ],
   "source": [
    "df['VehicleType'].unique()"
   ]
  },
  {
   "cell_type": "code",
   "execution_count": 9,
   "metadata": {},
   "outputs": [
    {
     "data": {
      "text/plain": [
       "array(['petrol', 'gasoline', nan, 'lpg', 'other', 'hybrid', 'cng',\n",
       "       'electric'], dtype=object)"
      ]
     },
     "execution_count": 9,
     "metadata": {},
     "output_type": "execute_result"
    }
   ],
   "source": [
    "df['FuelType'].unique()"
   ]
  },
  {
   "cell_type": "code",
   "execution_count": 10,
   "metadata": {},
   "outputs": [
    {
     "data": {
      "text/plain": [
       "Price               0.0\n",
       "VehicleType         0.0\n",
       "RegistrationYear    0.0\n",
       "Gearbox             0.0\n",
       "Power               0.0\n",
       "Model               0.0\n",
       "Kilometer           0.0\n",
       "FuelType            0.0\n",
       "Brand               0.0\n",
       "Repaired            0.0\n",
       "dtype: float64"
      ]
     },
     "execution_count": 10,
     "metadata": {},
     "output_type": "execute_result"
    }
   ],
   "source": [
    "df.fillna({'VehicleType':'other',\n",
    "           'FuelType':'other'},\n",
    "          inplace=True)\n",
    "df.isna().mean()"
   ]
  },
  {
   "cell_type": "markdown",
   "metadata": {},
   "source": [
    "Теперь взглянем на данные целевого признака цены."
   ]
  },
  {
   "cell_type": "code",
   "execution_count": 11,
   "metadata": {},
   "outputs": [
    {
     "data": {
      "text/plain": [
       "0        10772\n",
       "500       5670\n",
       "1500      5394\n",
       "1000      4649\n",
       "1200      4594\n",
       "         ...  \n",
       "1368         1\n",
       "233          1\n",
       "11080        1\n",
       "16340        1\n",
       "10985        1\n",
       "Name: Price, Length: 3731, dtype: int64"
      ]
     },
     "execution_count": 11,
     "metadata": {},
     "output_type": "execute_result"
    }
   ],
   "source": [
    "df['Price'].value_counts()"
   ]
  },
  {
   "cell_type": "markdown",
   "metadata": {},
   "source": [
    "Избавимся от аномальных показателей, таких как цена в 0 евро, а также слишком дорогих авто. Примем за данность, что будем обучать модели на показателях автомобилей дороже 350 евро и дешевле 10000 евро. Также избавимся от аномальных показателей в мощности двигателя, возьмем для обучения моделей сведения об автомобилях с мощностью от 25 до 400 л.с."
   ]
  },
  {
   "cell_type": "code",
   "execution_count": 12,
   "metadata": {},
   "outputs": [
    {
     "data": {
      "text/plain": [
       "count    300346.000000\n",
       "mean       4890.967238\n",
       "std        4575.484500\n",
       "min         250.000000\n",
       "25%        1400.000000\n",
       "50%        3200.000000\n",
       "75%        6999.000000\n",
       "max       20000.000000\n",
       "Name: Price, dtype: float64"
      ]
     },
     "execution_count": 12,
     "metadata": {},
     "output_type": "execute_result"
    }
   ],
   "source": [
    "df = df.query('250 <= Price <= 20000')\n",
    "df = df.query('24 < Power < 401')\n",
    "\n",
    "df['Price'].describe()"
   ]
  },
  {
   "cell_type": "markdown",
   "metadata": {},
   "source": [
    "Придадим значениям показателей `Gearbox` и `Repaired` буллев тип (будем считать авто с ручной коробкой передач как **1**, а с автоматической как **0**, также будем считать как **1** то, что машина была в ремонте и **0**, если не была. Для этих значений создадим новые столбцы `IsManualGearbox` и `IsRepaired` с соответствующими параметрами, а стерые столбцы удалим."
   ]
  },
  {
   "cell_type": "code",
   "execution_count": 13,
   "metadata": {},
   "outputs": [
    {
     "data": {
      "text/plain": [
       "1    240809\n",
       "0     59537\n",
       "Name: IsManualGearbox, dtype: int64"
      ]
     },
     "metadata": {},
     "output_type": "display_data"
    },
    {
     "data": {
      "text/plain": [
       "manual    240809\n",
       "auto       59537\n",
       "Name: Gearbox, dtype: int64"
      ]
     },
     "execution_count": 13,
     "metadata": {},
     "output_type": "execute_result"
    }
   ],
   "source": [
    "df['IsManualGearbox'] = 0\n",
    "df.loc[df['Gearbox'] == 'manual', 'IsManualGearbox'] = 1\n",
    "display(df['IsManualGearbox'].value_counts())\n",
    "df['Gearbox'].value_counts()"
   ]
  },
  {
   "cell_type": "code",
   "execution_count": 14,
   "metadata": {},
   "outputs": [
    {
     "data": {
      "text/plain": [
       "0    272920\n",
       "1     27426\n",
       "Name: IsRepaired, dtype: int64"
      ]
     },
     "metadata": {},
     "output_type": "display_data"
    },
    {
     "data": {
      "text/plain": [
       "no     272920\n",
       "yes     27426\n",
       "Name: Repaired, dtype: int64"
      ]
     },
     "execution_count": 14,
     "metadata": {},
     "output_type": "execute_result"
    }
   ],
   "source": [
    "df['IsRepaired'] = 0\n",
    "df.loc[df['Repaired'] == 'yes', 'IsRepaired'] = 1\n",
    "display(df['IsRepaired'].value_counts())\n",
    "df['Repaired'].value_counts()"
   ]
  },
  {
   "cell_type": "code",
   "execution_count": 15,
   "metadata": {},
   "outputs": [],
   "source": [
    "df.drop(['Repaired','Gearbox'], inplace=True, axis=1)"
   ]
  },
  {
   "cell_type": "code",
   "execution_count": 16,
   "metadata": {},
   "outputs": [
    {
     "name": "stdout",
     "output_type": "stream",
     "text": [
      "<class 'pandas.core.frame.DataFrame'>\n",
      "Int64Index: 300346 entries, 1 to 354368\n",
      "Data columns (total 10 columns):\n",
      " #   Column            Non-Null Count   Dtype \n",
      "---  ------            --------------   ----- \n",
      " 0   Price             300346 non-null  int64 \n",
      " 1   VehicleType       300346 non-null  object\n",
      " 2   RegistrationYear  300346 non-null  int64 \n",
      " 3   Power             300346 non-null  int64 \n",
      " 4   Model             300346 non-null  object\n",
      " 5   Kilometer         300346 non-null  int64 \n",
      " 6   FuelType          300346 non-null  object\n",
      " 7   Brand             300346 non-null  object\n",
      " 8   IsManualGearbox   300346 non-null  int64 \n",
      " 9   IsRepaired        300346 non-null  int64 \n",
      "dtypes: int64(6), object(4)\n",
      "memory usage: 25.2+ MB\n"
     ]
    }
   ],
   "source": [
    "df.info()"
   ]
  },
  {
   "cell_type": "markdown",
   "metadata": {},
   "source": [
    "**Вывод:** В ходе работы мы изучили таблицу данных, заполнили по возможности пропуски или удалили их, также избавились от аномальных показателей."
   ]
  },
  {
   "cell_type": "markdown",
   "metadata": {},
   "source": [
    "## Обучение моделей"
   ]
  },
  {
   "cell_type": "markdown",
   "metadata": {},
   "source": [
    "Выберем следующие регрессоры для обучения модели:\n",
    "\n",
    "1. LinearRegression\n",
    "2. Ridge\n",
    "3. DecisionTreeRegressor\n",
    "4. CatBoostRegressor\n",
    "5. LGBMRegressor\n",
    "\n",
    "В качестве метрики для всех моделей будем использовать MSE и в финальной таблице переведем в RMSE. Качество моделей будем проверять на кроссвалидации.\n",
    "\n",
    "Подготовим три типа признаков для кроссвалидации (будут применяться нами в зависимости от модели):\n",
    "\n",
    "Неизмененные. Название `features`.\n",
    "Закодированные методом OHE. Название `features_ohe`.\n",
    "Закодированные методом OE. Название `features_ord`.\n",
    "Целевые признаки везде одинаковые. Название `target`."
   ]
  },
  {
   "cell_type": "markdown",
   "metadata": {},
   "source": [
    "Сначала разобьем сет на признаки и целевой признак, а затем выборки на обучающую, валидационную и тестовую."
   ]
  },
  {
   "cell_type": "code",
   "execution_count": 17,
   "metadata": {},
   "outputs": [],
   "source": [
    "features = df.drop('Price', axis=1)\n",
    "target = df['Price']\n",
    "\n",
    "features_train, features_test, target_train, target_test = train_test_split(\n",
    "    features, target, test_size=0.4, random_state=3301)\n",
    "\n",
    "features_valid, features_test, target_valid, target_test = train_test_split(\n",
    "    features_test, target_test, test_size=0.5, random_state=3301)"
   ]
  },
  {
   "cell_type": "code",
   "execution_count": 18,
   "metadata": {},
   "outputs": [
    {
     "name": "stdout",
     "output_type": "stream",
     "text": [
      "(180207, 9) (180207,)\n",
      "(60069, 9) (60069,)\n",
      "(60070, 9) (60070,)\n"
     ]
    }
   ],
   "source": [
    "print(features_train.shape, target_train.shape)\n",
    "print(features_valid.shape, target_valid.shape)\n",
    "print(features_test.shape, target_test.shape)"
   ]
  },
  {
   "cell_type": "markdown",
   "metadata": {},
   "source": [
    "Мы разбили на выборки в соотншении 3:1:1"
   ]
  },
  {
   "cell_type": "markdown",
   "metadata": {},
   "source": [
    "Теперь также создадим датасеты, в которых категориальные данные будут приведены к числовым. Определим признаки, которые надо закодировать. "
   ]
  },
  {
   "cell_type": "code",
   "execution_count": 19,
   "metadata": {},
   "outputs": [],
   "source": [
    "cat_columns = ['VehicleType', 'FuelType','Brand','Model']"
   ]
  },
  {
   "cell_type": "markdown",
   "metadata": {},
   "source": [
    "Теперь применим прямое кодирование. Обучение проведем на тренировочной выборке, с помощью которого затем проведем трансформацию и других выборок."
   ]
  },
  {
   "cell_type": "code",
   "execution_count": 20,
   "metadata": {
    "scrolled": true
   },
   "outputs": [],
   "source": [
    "features_ohe_train = features_train.copy()\n",
    "encoder_ohe = OneHotEncoder(drop='first', handle_unknown='ignore', sparse=False)\n",
    "encoder_ohe.fit(features_train[cat_columns])\n",
    "\n",
    "features_ohe_train[encoder_ohe.get_feature_names_out()] = encoder_ohe.transform(features_ohe_train[cat_columns])\n",
    "features_ohe_train = features_ohe_train.drop(cat_columns, axis=1)\n",
    "\n",
    "features_ohe_valid = features_valid.copy()\n",
    "features_ohe_valid[encoder_ohe.get_feature_names_out()] = encoder_ohe.transform(features_ohe_valid[cat_columns])\n",
    "features_ohe_valid = features_ohe_valid.drop(cat_columns, axis=1)\n",
    "\n",
    "features_ohe_test = features_test.copy()\n",
    "features_ohe_test[encoder_ohe.get_feature_names_out()] = encoder_ohe.transform(features_ohe_test[cat_columns])\n",
    "features_ohe_test = features_ohe_test.drop(cat_columns, axis=1)"
   ]
  },
  {
   "cell_type": "markdown",
   "metadata": {},
   "source": [
    "Теперь применим порядковое кодирование. Обучение проведем на тренировочной выборке, с помощью которого затем проведем трансформацию и других выборок."
   ]
  },
  {
   "cell_type": "code",
   "execution_count": 21,
   "metadata": {},
   "outputs": [],
   "source": [
    "encoder_ord = OrdinalEncoder(handle_unknown='use_encoded_value', unknown_value=-1 )\n",
    "encoder_ord.fit(features_train)\n",
    "\n",
    "features_ord_train = pd.DataFrame(encoder_ord.transform(features_train), columns=features_train.columns)\n",
    "features_ord_valid = pd.DataFrame(encoder_ord.transform(features_valid), columns=features_valid.columns)\n",
    "features_ord_test = pd.DataFrame(encoder_ord.transform(features_test), columns=features_test.columns)"
   ]
  },
  {
   "cell_type": "markdown",
   "metadata": {},
   "source": [
    "Теперь приступим собственно к обучению моделей и определению RMSE."
   ]
  },
  {
   "cell_type": "markdown",
   "metadata": {},
   "source": [
    "### Линейная регрессия"
   ]
  },
  {
   "cell_type": "code",
   "execution_count": 22,
   "metadata": {},
   "outputs": [
    {
     "name": "stdout",
     "output_type": "stream",
     "text": [
      "# Обучение модели и определение RMSE\n",
      "\n",
      "Среднее RMSE на кроссвалидации LinearRegression = 2806.6684968493323\n",
      "Wall time: 20.1 s\n"
     ]
    }
   ],
   "source": [
    "%%time\n",
    "\n",
    "regressor = LinearRegression()\n",
    "print('# Обучение модели и определение RMSE')\n",
    "print()\n",
    "cv_RMSE_LR = (cross_val_score(regressor, \n",
    "                             features_ohe_train, \n",
    "                             target_train, \n",
    "                             cv=5, \n",
    "                             scoring='neg_mean_squared_error').mean() * -1) ** 0.5\n",
    "print('Среднее RMSE на кроссвалидации LinearRegression =', cv_RMSE_LR)"
   ]
  },
  {
   "cell_type": "markdown",
   "metadata": {},
   "source": [
    "Среднее значение RMSE на кроссвалидаци LinearRegression составило более *2806.6684968493323*, что довольно плохо (не должно превышать 2500). "
   ]
  },
  {
   "cell_type": "markdown",
   "metadata": {},
   "source": [
    "### Регрессия Rigle"
   ]
  },
  {
   "cell_type": "code",
   "execution_count": 23,
   "metadata": {},
   "outputs": [
    {
     "name": "stdout",
     "output_type": "stream",
     "text": [
      "# Настройка параметров, обучение модели и определение RMSE\n",
      "\n",
      "Лучший показатель RMSE при параметрах:\n",
      "\n",
      "{'solver': 'svd'}\n",
      "\n",
      "Сетка оценок RMSE:\n",
      "\n",
      "2806.947640 для {'solver': 'auto'}\n",
      "2806.947640 для {'solver': 'svd'}\n",
      "2806.947640 для {'solver': 'cholesky'}\n",
      "4205.555915 для {'solver': 'lsqr'}\n",
      "3363.023886 для {'solver': 'sparse_cg'}\n",
      "\n",
      "Wall time: 1min 6s\n"
     ]
    }
   ],
   "source": [
    "%%time\n",
    "\n",
    "regressor = Ridge()\n",
    "hyperparams = [{'solver':['auto', 'svd', 'cholesky', 'lsqr','sparse_cg']}]\n",
    "\n",
    "\n",
    "print('# Настройка параметров, обучение модели и определение RMSE')\n",
    "print()\n",
    "clf = GridSearchCV(regressor, hyperparams, scoring='neg_mean_squared_error')\n",
    "clf.fit(features_ohe_train, target_train)\n",
    "print(\"Лучший показатель RMSE при параметрах:\")\n",
    "print()\n",
    "print(clf.best_params_)\n",
    "print()\n",
    "print(\"Сетка оценок RMSE:\")\n",
    "print()\n",
    "means = clf.cv_results_['mean_test_score']\n",
    "stds = clf.cv_results_['std_test_score']\n",
    "for mean, std, params in zip(means, stds, clf.cv_results_['params']):\n",
    "    print(\"%0.6f для %r\" % ((mean * -1) ** 0.5, params))\n",
    "print()\n",
    "\n",
    "cv_RMSE_R = (max(means) * -1) ** 0.5"
   ]
  },
  {
   "cell_type": "markdown",
   "metadata": {},
   "source": [
    "Лучшее значение RMSE регресси Ridge составило *2806.947640* при параметре `svd`. "
   ]
  },
  {
   "cell_type": "markdown",
   "metadata": {},
   "source": [
    "### Регрессия DecisionTreeRegressor"
   ]
  },
  {
   "cell_type": "code",
   "execution_count": 44,
   "metadata": {},
   "outputs": [
    {
     "name": "stdout",
     "output_type": "stream",
     "text": [
      "# Настройка гиперпараметров, обучение модели и определение RMSE (здесь придется немного подождать, у меня заняло чуть более 9 минут)\n",
      "\n",
      "Лучший показатель RMSE при параметрах:\n",
      "\n",
      "{'criterion': 'mse', 'max_depth': 17, 'random_state': 3301}\n",
      "\n",
      "Сетка оценок RMSE:\n",
      "\n",
      "3268.803815 для {'criterion': 'mse', 'max_depth': 2, 'random_state': 3301}\n",
      "2979.595717 для {'criterion': 'mse', 'max_depth': 3, 'random_state': 3301}\n",
      "2680.086181 для {'criterion': 'mse', 'max_depth': 4, 'random_state': 3301}\n",
      "2465.729615 для {'criterion': 'mse', 'max_depth': 5, 'random_state': 3301}\n",
      "2311.380128 для {'criterion': 'mse', 'max_depth': 6, 'random_state': 3301}\n",
      "2192.206349 для {'criterion': 'mse', 'max_depth': 7, 'random_state': 3301}\n",
      "2111.006493 для {'criterion': 'mse', 'max_depth': 8, 'random_state': 3301}\n",
      "2051.476763 для {'criterion': 'mse', 'max_depth': 9, 'random_state': 3301}\n",
      "1999.012365 для {'criterion': 'mse', 'max_depth': 10, 'random_state': 3301}\n",
      "1957.510820 для {'criterion': 'mse', 'max_depth': 11, 'random_state': 3301}\n",
      "1928.786060 для {'criterion': 'mse', 'max_depth': 12, 'random_state': 3301}\n",
      "1906.686962 для {'criterion': 'mse', 'max_depth': 13, 'random_state': 3301}\n",
      "1891.908624 для {'criterion': 'mse', 'max_depth': 14, 'random_state': 3301}\n",
      "1885.018591 для {'criterion': 'mse', 'max_depth': 15, 'random_state': 3301}\n",
      "1885.611353 для {'criterion': 'mse', 'max_depth': 16, 'random_state': 3301}\n",
      "1883.774832 для {'criterion': 'mse', 'max_depth': 17, 'random_state': 3301}\n",
      "1888.793686 для {'criterion': 'mse', 'max_depth': 18, 'random_state': 3301}\n",
      "1891.292382 для {'criterion': 'mse', 'max_depth': 19, 'random_state': 3301}\n",
      "1893.695327 для {'criterion': 'mse', 'max_depth': 20, 'random_state': 3301}\n",
      "1896.171423 для {'criterion': 'mse', 'max_depth': 21, 'random_state': 3301}\n",
      "1897.671519 для {'criterion': 'mse', 'max_depth': 22, 'random_state': 3301}\n",
      "1897.138258 для {'criterion': 'mse', 'max_depth': 23, 'random_state': 3301}\n",
      "1904.892356 для {'criterion': 'mse', 'max_depth': 24, 'random_state': 3301}\n",
      "1911.388012 для {'criterion': 'mse', 'max_depth': 25, 'random_state': 3301}\n",
      "1910.144346 для {'criterion': 'mse', 'max_depth': 26, 'random_state': 3301}\n",
      "1918.476416 для {'criterion': 'mse', 'max_depth': 27, 'random_state': 3301}\n",
      "1921.332550 для {'criterion': 'mse', 'max_depth': 28, 'random_state': 3301}\n",
      "1918.467860 для {'criterion': 'mse', 'max_depth': 29, 'random_state': 3301}\n",
      "1926.552671 для {'criterion': 'mse', 'max_depth': 30, 'random_state': 3301}\n",
      "\n",
      "Wall time: 9min 37s\n"
     ]
    }
   ],
   "source": [
    "%%time\n",
    "\n",
    "regressor = DecisionTreeRegressor() \n",
    "max_depth_list = [x for x in range(2, 31)]\n",
    "hyperparams = [{'criterion':['mse'], \n",
    "                'max_depth':max_depth_list, \n",
    "                'random_state':[3301]}]\n",
    "\n",
    "print('# Настройка гиперпараметров, обучение модели и определение RMSE (здесь придется немного подождать, у меня заняло чуть более 9 минут)')\n",
    "print()\n",
    "clf = GridSearchCV(regressor, hyperparams, scoring='neg_mean_squared_error')\n",
    "clf.fit(features_ohe_train, target_train)\n",
    "print(\"Лучший показатель RMSE при параметрах:\")\n",
    "print()\n",
    "print(clf.best_params_)\n",
    "print()\n",
    "print(\"Сетка оценок RMSE:\")\n",
    "print()\n",
    "means = clf.cv_results_['mean_test_score']\n",
    "stds = clf.cv_results_['std_test_score']\n",
    "for mean, std, params in zip(means, stds, clf.cv_results_['params']):\n",
    "    print(\"%0.6f для %r\" % ((mean * -1) ** 0.5, params))\n",
    "print()\n",
    "\n",
    "cv_RMSE_DTR = (max(means) * -1) ** 0.5"
   ]
  },
  {
   "cell_type": "markdown",
   "metadata": {},
   "source": [
    "Лучшее значение RMSE регресси DecisionTreeRegressor составило *1883.774832* при максимальной глубине дерева `17`. Что уже лучше требуемой."
   ]
  },
  {
   "cell_type": "markdown",
   "metadata": {},
   "source": [
    "### Регрессия CatBoostRegressor"
   ]
  },
  {
   "cell_type": "code",
   "execution_count": 25,
   "metadata": {},
   "outputs": [
    {
     "name": "stdout",
     "output_type": "stream",
     "text": [
      "# Обучение модели и определение RMSE\n",
      "\n",
      "Среднее RMSE на кроссвалидации CatBoostRegressor = 1638.0046738212843\n",
      "Wall time: 1min 37s\n"
     ]
    }
   ],
   "source": [
    "%%time\n",
    "\n",
    "regressor = CatBoostRegressor(learning_rate=0.5,\n",
    "                              iterations = 200,\n",
    "                              random_state=3301, \n",
    "                              verbose=False, \n",
    "                              cat_features=['VehicleType', 'FuelType','Brand','Model']) \n",
    "print('# Обучение модели и определение RMSE')\n",
    "print()\n",
    "cv_RMSE_CBR = (cross_val_score(regressor,\n",
    "                                features_train, \n",
    "                                target_train, \n",
    "                                cv=5, \n",
    "                                scoring='neg_mean_squared_error').mean() * -1) ** 0.5\n",
    "print('Среднее RMSE на кроссвалидации CatBoostRegressor =', cv_RMSE_CBR)"
   ]
  },
  {
   "cell_type": "markdown",
   "metadata": {},
   "source": [
    "Среднее значение RMSE на кроссвалидаци CatBoostRegression составило *1638.0046738212843*, что заметно лучше предыдущих моделей."
   ]
  },
  {
   "cell_type": "markdown",
   "metadata": {},
   "source": [
    "### Регрессия LGBMRegressor"
   ]
  },
  {
   "cell_type": "code",
   "execution_count": 26,
   "metadata": {},
   "outputs": [
    {
     "name": "stdout",
     "output_type": "stream",
     "text": [
      "# Настройка гиперпараметров, обучение модели и определение RMSE\n",
      "\n",
      "Лучший показатель RMSE при параметрах:\n",
      "\n",
      "{'learning_rate': 0.3, 'num_leaves': 200, 'random_state': 3301}\n",
      "\n",
      "Сетка оценок RMSE:\n",
      "\n",
      "1711.201729 для {'learning_rate': 0.1, 'num_leaves': 31, 'random_state': 3301}\n",
      "1618.186045 для {'learning_rate': 0.1, 'num_leaves': 100, 'random_state': 3301}\n",
      "1579.829698 для {'learning_rate': 0.1, 'num_leaves': 200, 'random_state': 3301}\n",
      "1642.000657 для {'learning_rate': 0.3, 'num_leaves': 31, 'random_state': 3301}\n",
      "1589.215292 для {'learning_rate': 0.3, 'num_leaves': 100, 'random_state': 3301}\n",
      "1577.204345 для {'learning_rate': 0.3, 'num_leaves': 200, 'random_state': 3301}\n",
      "1646.117694 для {'learning_rate': 0.5, 'num_leaves': 31, 'random_state': 3301}\n",
      "1612.549308 для {'learning_rate': 0.5, 'num_leaves': 100, 'random_state': 3301}\n",
      "1610.118497 для {'learning_rate': 0.5, 'num_leaves': 200, 'random_state': 3301}\n",
      "\n",
      "Wall time: 30.6 s\n"
     ]
    }
   ],
   "source": [
    "%%time\n",
    "\n",
    "regressor = LGBMRegressor() \n",
    "hyperparams = [{'num_leaves':[31, 100, 200], \n",
    "                'learning_rate':[0.1, 0.3, 0.5],\n",
    "                'random_state':[3301]}]\n",
    "\n",
    "print('# Настройка гиперпараметров, обучение модели и определение RMSE')\n",
    "print()\n",
    "clf = GridSearchCV(regressor, hyperparams, scoring='neg_mean_squared_error')\n",
    "clf.fit(features_ord_train, target_train)\n",
    "print(\"Лучший показатель RMSE при параметрах:\")\n",
    "print()\n",
    "print(clf.best_params_)\n",
    "print()\n",
    "print(\"Сетка оценок RMSE:\")\n",
    "print()\n",
    "means = clf.cv_results_['mean_test_score']\n",
    "stds = clf.cv_results_['std_test_score']\n",
    "for mean, std, params in zip(means, stds, clf.cv_results_['params']):\n",
    "    print(\"%0.6f для %r\" % ((mean * -1) ** 0.5, params))\n",
    "print()\n",
    "\n",
    "cv_RMSE_LGBMR = (max(means) * -1) ** 0.5"
   ]
  },
  {
   "cell_type": "markdown",
   "metadata": {},
   "source": [
    "Лучшее значение RMSE регресси LGBMRegressor составило *1577.204345* при показателях learning_rate' равном  0.3 и 'num_leaves' равном 200. На данный момент это лучший показатель RMSE."
   ]
  },
  {
   "cell_type": "markdown",
   "metadata": {},
   "source": [
    "**Вывод:** Нами были изучены 5 регрессионных моделей, при этом мы зафиксировали лучшие гиперпараметры и время обучения моделей."
   ]
  },
  {
   "cell_type": "markdown",
   "metadata": {},
   "source": [
    "## Анализ моделей"
   ]
  },
  {
   "cell_type": "markdown",
   "metadata": {},
   "source": [
    "Теперь приступим к обучению моделей на лучших параметрах и проверке показателей RMSE на тестовой выборке, зафиксируем время обучения и проверки моделей, а также показатели RMSE на тестовой выборке, а затем проведем сравнение моделей."
   ]
  },
  {
   "cell_type": "markdown",
   "metadata": {},
   "source": [
    "### LinearRegression"
   ]
  },
  {
   "cell_type": "code",
   "execution_count": 27,
   "metadata": {},
   "outputs": [
    {
     "name": "stdout",
     "output_type": "stream",
     "text": [
      "Wall time: 3.85 s\n"
     ]
    },
    {
     "data": {
      "text/plain": [
       "3.8536791801452637"
      ]
     },
     "execution_count": 27,
     "metadata": {},
     "output_type": "execute_result"
    }
   ],
   "source": [
    "%%time\n",
    "\n",
    "model = LinearRegression()\n",
    "a = time.time()\n",
    "model.fit(features_ohe_train, target_train)\n",
    "b = time.time()\n",
    "LR_fit = b - a\n",
    "LR_fit"
   ]
  },
  {
   "cell_type": "code",
   "execution_count": 28,
   "metadata": {},
   "outputs": [
    {
     "name": "stdout",
     "output_type": "stream",
     "text": [
      "Wall time: 484 ms\n"
     ]
    },
    {
     "data": {
      "text/plain": [
       "0.48446202278137207"
      ]
     },
     "execution_count": 28,
     "metadata": {},
     "output_type": "execute_result"
    }
   ],
   "source": [
    "%%time\n",
    "a = time.time()\n",
    "target_predict = model.predict(features_ohe_valid)\n",
    "b = time.time()\n",
    "LR_predict = b - a\n",
    "LR_predict"
   ]
  },
  {
   "cell_type": "code",
   "execution_count": 29,
   "metadata": {},
   "outputs": [
    {
     "data": {
      "text/plain": [
       "2821.324772613799"
      ]
     },
     "execution_count": 29,
     "metadata": {},
     "output_type": "execute_result"
    }
   ],
   "source": [
    "final_RMSE_LR = mean_squared_error(target_valid, target_predict) ** 0.5\n",
    "final_RMSE_LR"
   ]
  },
  {
   "cell_type": "markdown",
   "metadata": {},
   "source": [
    "### Ridge"
   ]
  },
  {
   "cell_type": "code",
   "execution_count": 30,
   "metadata": {},
   "outputs": [
    {
     "name": "stdout",
     "output_type": "stream",
     "text": [
      "Wall time: 7.2 s\n"
     ]
    },
    {
     "data": {
      "text/plain": [
       "7.201472997665405"
      ]
     },
     "execution_count": 30,
     "metadata": {},
     "output_type": "execute_result"
    }
   ],
   "source": [
    "%%time\n",
    "\n",
    "model = Ridge(solver='svd')\n",
    "a = time.time()\n",
    "model.fit(features_ohe_train, target_train)\n",
    "b = time.time()\n",
    "R_fit = b - a\n",
    "R_fit"
   ]
  },
  {
   "cell_type": "code",
   "execution_count": 31,
   "metadata": {},
   "outputs": [
    {
     "name": "stdout",
     "output_type": "stream",
     "text": [
      "Wall time: 124 ms\n"
     ]
    },
    {
     "data": {
      "text/plain": [
       "0.1240077018737793"
      ]
     },
     "execution_count": 31,
     "metadata": {},
     "output_type": "execute_result"
    }
   ],
   "source": [
    "%%time\n",
    "a = time.time()\n",
    "\n",
    "target_predict = model.predict(features_ohe_valid)\n",
    "b = time.time()\n",
    "R_predict = b - a\n",
    "R_predict"
   ]
  },
  {
   "cell_type": "code",
   "execution_count": 32,
   "metadata": {},
   "outputs": [
    {
     "data": {
      "text/plain": [
       "2821.621751452996"
      ]
     },
     "execution_count": 32,
     "metadata": {},
     "output_type": "execute_result"
    }
   ],
   "source": [
    "final_RMSE_R = mean_squared_error(target_valid, target_predict) ** 0.5\n",
    "final_RMSE_R"
   ]
  },
  {
   "cell_type": "markdown",
   "metadata": {},
   "source": [
    "### DecisionTreeRegressor"
   ]
  },
  {
   "cell_type": "code",
   "execution_count": 33,
   "metadata": {},
   "outputs": [
    {
     "name": "stdout",
     "output_type": "stream",
     "text": [
      "Wall time: 5.84 s\n"
     ]
    },
    {
     "data": {
      "text/plain": [
       "5.836105585098267"
      ]
     },
     "execution_count": 33,
     "metadata": {},
     "output_type": "execute_result"
    }
   ],
   "source": [
    "%%time\n",
    "\n",
    "model = DecisionTreeRegressor(criterion='mse', \n",
    "                              max_depth=17, \n",
    "                              random_state=3301) \n",
    "a = time.time()\n",
    "\n",
    "model.fit(features_ohe_train, target_train)\n",
    "b = time.time()\n",
    "DTR_fit = b - a\n",
    "DTR_fit"
   ]
  },
  {
   "cell_type": "code",
   "execution_count": 34,
   "metadata": {},
   "outputs": [
    {
     "name": "stdout",
     "output_type": "stream",
     "text": [
      "Wall time: 130 ms\n"
     ]
    },
    {
     "data": {
      "text/plain": [
       "0.1290130615234375"
      ]
     },
     "execution_count": 34,
     "metadata": {},
     "output_type": "execute_result"
    }
   ],
   "source": [
    "%%time\n",
    "a = time.time()\n",
    "\n",
    "target_predict = model.predict(features_ohe_valid)\n",
    "b = time.time()\n",
    "DTR_predict = b - a\n",
    "DTR_predict"
   ]
  },
  {
   "cell_type": "code",
   "execution_count": 35,
   "metadata": {},
   "outputs": [
    {
     "data": {
      "text/plain": [
       "1841.2529278017075"
      ]
     },
     "execution_count": 35,
     "metadata": {},
     "output_type": "execute_result"
    }
   ],
   "source": [
    "final_RMSE_DTR = mean_squared_error(target_valid, target_predict) ** 0.5                                    \n",
    "final_RMSE_DTR"
   ]
  },
  {
   "cell_type": "markdown",
   "metadata": {},
   "source": [
    "### CatBoostRegressor"
   ]
  },
  {
   "cell_type": "code",
   "execution_count": 36,
   "metadata": {},
   "outputs": [
    {
     "name": "stdout",
     "output_type": "stream",
     "text": [
      "Wall time: 22.2 s\n"
     ]
    },
    {
     "data": {
      "text/plain": [
       "22.01894474029541"
      ]
     },
     "execution_count": 36,
     "metadata": {},
     "output_type": "execute_result"
    }
   ],
   "source": [
    "%%time\n",
    "\n",
    "model = CatBoostRegressor(learning_rate=0.5, \n",
    "                          iterations = 200, \n",
    "                          random_state=3301, \n",
    "                          verbose=False,\n",
    "                          cat_features=['VehicleType','FuelType','Brand','Model']) \n",
    "a = time.time()\n",
    "\n",
    "model.fit(features_train, target_train)\n",
    "b = time.time()\n",
    "CBR_fit = b - a\n",
    "CBR_fit"
   ]
  },
  {
   "cell_type": "code",
   "execution_count": 37,
   "metadata": {},
   "outputs": [
    {
     "name": "stdout",
     "output_type": "stream",
     "text": [
      "Wall time: 159 ms\n"
     ]
    },
    {
     "data": {
      "text/plain": [
       "0.15888547897338867"
      ]
     },
     "execution_count": 37,
     "metadata": {},
     "output_type": "execute_result"
    }
   ],
   "source": [
    "%%time\n",
    "a = time.time()\n",
    "\n",
    "target_predict = model.predict(features_valid)\n",
    "b = time.time()\n",
    "CBR_predict = b - a\n",
    "CBR_predict"
   ]
  },
  {
   "cell_type": "code",
   "execution_count": 38,
   "metadata": {},
   "outputs": [
    {
     "data": {
      "text/plain": [
       "1646.2041313772083"
      ]
     },
     "execution_count": 38,
     "metadata": {},
     "output_type": "execute_result"
    }
   ],
   "source": [
    "final_RMSE_CBR = mean_squared_error(target_valid, target_predict) ** 0.5\n",
    "final_RMSE_CBR"
   ]
  },
  {
   "cell_type": "markdown",
   "metadata": {},
   "source": [
    "### LGBMRegressor"
   ]
  },
  {
   "cell_type": "code",
   "execution_count": 39,
   "metadata": {},
   "outputs": [
    {
     "name": "stdout",
     "output_type": "stream",
     "text": [
      "Wall time: 1.59 s\n"
     ]
    },
    {
     "data": {
      "text/plain": [
       "1.5681226253509521"
      ]
     },
     "execution_count": 39,
     "metadata": {},
     "output_type": "execute_result"
    }
   ],
   "source": [
    "%%time\n",
    "\n",
    "model = LGBMRegressor(learning_rate=0.3, \n",
    "                      num_leaves=200, \n",
    "                      random_state=3301)\n",
    "a = time.time()\n",
    "\n",
    "model.fit(features_ord_train, target_train)\n",
    "b = time.time()\n",
    "LGBMR_fit = b - a\n",
    "LGBMR_fit"
   ]
  },
  {
   "cell_type": "code",
   "execution_count": 40,
   "metadata": {},
   "outputs": [
    {
     "name": "stdout",
     "output_type": "stream",
     "text": [
      "Wall time: 128 ms\n"
     ]
    },
    {
     "data": {
      "text/plain": [
       "0.1280066967010498"
      ]
     },
     "execution_count": 40,
     "metadata": {},
     "output_type": "execute_result"
    }
   ],
   "source": [
    "%%time\n",
    "a = time.time()\n",
    "\n",
    "target_predict = model.predict(features_ord_valid)\n",
    "b = time.time()\n",
    "LGBMR_predict = b - a\n",
    "LGBMR_predict"
   ]
  },
  {
   "cell_type": "code",
   "execution_count": 41,
   "metadata": {},
   "outputs": [
    {
     "data": {
      "text/plain": [
       "1582.1922115632049"
      ]
     },
     "execution_count": 41,
     "metadata": {},
     "output_type": "execute_result"
    }
   ],
   "source": [
    "final_RMSE_LGBMR = mean_squared_error(target_valid, target_predict) ** 0.5\n",
    "final_RMSE_LGBMR"
   ]
  },
  {
   "cell_type": "markdown",
   "metadata": {},
   "source": [
    "### Сравнение моделей"
   ]
  },
  {
   "cell_type": "markdown",
   "metadata": {},
   "source": [
    "Теперь сведем все полученные данные в таблицу и сравним их (я понимаю, что скорости выполнения кода будут несколько различаться, но не придумал, как можно сохранить это время в переменных и использовать их в таблице, но в целом, думаю, пропорции должны примерно оставаться такими же)."
   ]
  },
  {
   "cell_type": "code",
   "execution_count": 42,
   "metadata": {},
   "outputs": [
    {
     "data": {
      "text/html": [
       "<div>\n",
       "<style scoped>\n",
       "    .dataframe tbody tr th:only-of-type {\n",
       "        vertical-align: middle;\n",
       "    }\n",
       "\n",
       "    .dataframe tbody tr th {\n",
       "        vertical-align: top;\n",
       "    }\n",
       "\n",
       "    .dataframe thead th {\n",
       "        text-align: right;\n",
       "    }\n",
       "</style>\n",
       "<table border=\"1\" class=\"dataframe\">\n",
       "  <thead>\n",
       "    <tr style=\"text-align: right;\">\n",
       "      <th></th>\n",
       "      <th>RMSE на CV</th>\n",
       "      <th>RMSE модели на валидацинной выборке</th>\n",
       "      <th>Время обучения модели, сек</th>\n",
       "      <th>Время предсказания модели, сек</th>\n",
       "      <th>Рейтинг RMSE</th>\n",
       "      <th>Рейтинг времени обучения</th>\n",
       "      <th>Рейтинг времени предсказания</th>\n",
       "      <th>Итоговый рейтинг</th>\n",
       "    </tr>\n",
       "  </thead>\n",
       "  <tbody>\n",
       "    <tr>\n",
       "      <th>LinearRegression</th>\n",
       "      <td>2806.668497</td>\n",
       "      <td>2821.324773</td>\n",
       "      <td>3.853679</td>\n",
       "      <td>0.484462</td>\n",
       "      <td>0.560798</td>\n",
       "      <td>0.406916</td>\n",
       "      <td>0.255970</td>\n",
       "      <td>1.223683</td>\n",
       "    </tr>\n",
       "    <tr>\n",
       "      <th>Ridge</th>\n",
       "      <td>2806.947640</td>\n",
       "      <td>2821.621751</td>\n",
       "      <td>7.201473</td>\n",
       "      <td>0.124008</td>\n",
       "      <td>0.560739</td>\n",
       "      <td>0.217750</td>\n",
       "      <td>1.000000</td>\n",
       "      <td>1.778489</td>\n",
       "    </tr>\n",
       "    <tr>\n",
       "      <th>DecisionTreeRegressor</th>\n",
       "      <td>1883.774832</td>\n",
       "      <td>1841.252928</td>\n",
       "      <td>5.836106</td>\n",
       "      <td>0.129013</td>\n",
       "      <td>0.859302</td>\n",
       "      <td>0.268693</td>\n",
       "      <td>0.961203</td>\n",
       "      <td>2.089198</td>\n",
       "    </tr>\n",
       "    <tr>\n",
       "      <th>CatBoostRegressor</th>\n",
       "      <td>1638.004674</td>\n",
       "      <td>1646.204131</td>\n",
       "      <td>22.018945</td>\n",
       "      <td>0.158885</td>\n",
       "      <td>0.961115</td>\n",
       "      <td>0.071217</td>\n",
       "      <td>0.780485</td>\n",
       "      <td>1.812817</td>\n",
       "    </tr>\n",
       "    <tr>\n",
       "      <th>LGBMRegressor</th>\n",
       "      <td>1577.204345</td>\n",
       "      <td>1582.192212</td>\n",
       "      <td>1.568123</td>\n",
       "      <td>0.128007</td>\n",
       "      <td>1.000000</td>\n",
       "      <td>1.000000</td>\n",
       "      <td>0.968759</td>\n",
       "      <td>2.968759</td>\n",
       "    </tr>\n",
       "  </tbody>\n",
       "</table>\n",
       "</div>"
      ],
      "text/plain": [
       "                        RMSE на CV  RMSE модели на валидацинной выборке  \\\n",
       "LinearRegression       2806.668497                          2821.324773   \n",
       "Ridge                  2806.947640                          2821.621751   \n",
       "DecisionTreeRegressor  1883.774832                          1841.252928   \n",
       "CatBoostRegressor      1638.004674                          1646.204131   \n",
       "LGBMRegressor          1577.204345                          1582.192212   \n",
       "\n",
       "                       Время обучения модели, сек  \\\n",
       "LinearRegression                         3.853679   \n",
       "Ridge                                    7.201473   \n",
       "DecisionTreeRegressor                    5.836106   \n",
       "CatBoostRegressor                       22.018945   \n",
       "LGBMRegressor                            1.568123   \n",
       "\n",
       "                       Время предсказания модели, сек  Рейтинг RMSE  \\\n",
       "LinearRegression                             0.484462      0.560798   \n",
       "Ridge                                        0.124008      0.560739   \n",
       "DecisionTreeRegressor                        0.129013      0.859302   \n",
       "CatBoostRegressor                            0.158885      0.961115   \n",
       "LGBMRegressor                                0.128007      1.000000   \n",
       "\n",
       "                       Рейтинг времени обучения  Рейтинг времени предсказания  \\\n",
       "LinearRegression                       0.406916                      0.255970   \n",
       "Ridge                                  0.217750                      1.000000   \n",
       "DecisionTreeRegressor                  0.268693                      0.961203   \n",
       "CatBoostRegressor                      0.071217                      0.780485   \n",
       "LGBMRegressor                          1.000000                      0.968759   \n",
       "\n",
       "                       Итоговый рейтинг  \n",
       "LinearRegression               1.223683  \n",
       "Ridge                          1.778489  \n",
       "DecisionTreeRegressor          2.089198  \n",
       "CatBoostRegressor              1.812817  \n",
       "LGBMRegressor                  2.968759  "
      ]
     },
     "execution_count": 42,
     "metadata": {},
     "output_type": "execute_result"
    }
   ],
   "source": [
    "index = ['LinearRegression',\n",
    "         'Ridge',\n",
    "         'DecisionTreeRegressor',\n",
    "         'CatBoostRegressor',\n",
    "         'LGBMRegressor']\n",
    "data = {'RMSE на CV':[cv_RMSE_LR,\n",
    "                      cv_RMSE_R,\n",
    "                      cv_RMSE_DTR,\n",
    "                      cv_RMSE_CBR,\n",
    "                      cv_RMSE_LGBMR],\n",
    "        'RMSE модели на валидацинной выборке':[final_RMSE_LR,\n",
    "                                           final_RMSE_R,\n",
    "                                           final_RMSE_DTR,\n",
    "                                           final_RMSE_CBR,\n",
    "                                           final_RMSE_LGBMR],\n",
    "        'Время обучения модели, сек':[LR_fit,\n",
    "                                     R_fit,\n",
    "                                     DTR_fit,\n",
    "                                     CBR_fit,\n",
    "                                     LGBMR_fit],\n",
    "        'Время предсказания модели, сек':[LR_predict,\n",
    "                                          R_predict, \n",
    "                                          DTR_predict,\n",
    "                                          CBR_predict,\n",
    "                                          LGBMR_predict]}\n",
    "\n",
    "scores_data = pd.DataFrame(data=data, index=index)\n",
    "scores_data['Рейтинг RMSE'] = (scores_data['RMSE модели на валидацинной выборке'].min() /\n",
    "                              scores_data['RMSE модели на валидацинной выборке'])\n",
    "scores_data['Рейтинг времени обучения'] = (scores_data['Время обучения модели, сек'].min() / \n",
    "                              scores_data['Время обучения модели, сек'])\n",
    "scores_data['Рейтинг времени предсказания'] = (scores_data['Время предсказания модели, сек'].min() / \n",
    "                              scores_data['Время предсказания модели, сек'])\n",
    "scores_data['Итоговый рейтинг'] = (scores_data['Рейтинг RMSE'] +\n",
    "                                   scores_data['Рейтинг времени обучения'] +\n",
    "                                   scores_data['Рейтинг времени предсказания'])\n",
    "scores_data"
   ]
  },
  {
   "cell_type": "markdown",
   "metadata": {},
   "source": [
    "### Контрольная проверка лидера"
   ]
  },
  {
   "cell_type": "code",
   "execution_count": 43,
   "metadata": {},
   "outputs": [
    {
     "name": "stdout",
     "output_type": "stream",
     "text": [
      "Wall time: 127 ms\n"
     ]
    },
    {
     "data": {
      "text/plain": [
       "1546.1710503319566"
      ]
     },
     "execution_count": 43,
     "metadata": {},
     "output_type": "execute_result"
    }
   ],
   "source": [
    "%%time\n",
    "a = time.time()\n",
    "\n",
    "target_predict = model.predict(features_ord_test)\n",
    "b = time.time()\n",
    "LGBMR_control = b - a\n",
    "LGBMR_control\n",
    "control_RMSE_LGBMR = mean_squared_error(target_test, target_predict) ** 0.5\n",
    "control_RMSE_LGBMR"
   ]
  },
  {
   "cell_type": "markdown",
   "metadata": {},
   "source": [
    "Итак, на тестовой выборке лучшая модель показала результат RMSE *1546.1710503319566*, что лучше требуемой в поставленной задаче, и довольно неплохую скорость."
   ]
  },
  {
   "cell_type": "markdown",
   "metadata": {},
   "source": [
    "**Вывод:**\n",
    "Итак, как очевидно следует из таблицы безусловным лидером стала модель LGBMRegressor, как показавшая наилучшую скорость обучения, практически лучшую скорость предсказания и также лучший результат по метрике RMSE. Модель CatBoostRegressor также показала неплохие результаты по качеству и скорости предсказания, но существенно уступает лидеру в скорости обучения. DecisionTreeRegressor показал относительно небольшую скорость обучения и предсказания, однако качество несколько уступает как лидеру, так и модели CatBoostRegressor, что, на мой взгляд, говорит о его не слишком большой успешности. Остальные две модели не прошли даже по требованию о показатели RMSE ниже *2500*."
   ]
  },
  {
   "cell_type": "markdown",
   "metadata": {},
   "source": [
    "## **Общие выводы:**\n",
    "\n",
    "В ходе работы были осуществлены загрузка, изучение и предобработка данных, сравнение моделей с использованием различных наборов гиперпараметров, выбрана лучшая модель по результатам метрики RMSE, времени обучения и предсказания. Для общей оценки всем трем параметрам (поскольку специально это не оговорено в задании, полагаем параметры качества, скорости обучения и предсказания равнозначными) был создан относительный рейтинг. Первое место получает модель с самым минмальным временем и RMSE. Остальные получают рейтинг как отношение лучшего в столбце к своему значению. На выбор модели не влияло время обучения на кроссвалидации, так как на одном типе данных ее проводят один раз. В то время переобучить модель на новых данных приходится намного чаще.\n",
    "\n",
    "Лучшей моделью по всем трем параметрам *качество*, *скорость обучения* и *скорость предсказания* безусловно стала модель LGBMRegressor, показатель RMSE на тестовой выборке которой составил *1546.1710503319566*, а также наименьшую скорость обучения и предсказания. Сочетания скорости и точности на подготовленных данных выводит его в лидеры рейтинга. Все остальные модели показали себя в целом хуже."
   ]
  }
 ],
 "metadata": {
  "ExecuteTimeLog": [
   {
    "duration": 1537,
    "start_time": "2023-06-13T06:27:48.773Z"
   },
   {
    "duration": 2048,
    "start_time": "2023-06-13T06:27:50.313Z"
   },
   {
    "duration": 99,
    "start_time": "2023-06-13T06:27:52.364Z"
   },
   {
    "duration": 167,
    "start_time": "2023-06-13T06:27:52.465Z"
   },
   {
    "duration": 177,
    "start_time": "2023-06-13T06:27:52.634Z"
   },
   {
    "duration": 66,
    "start_time": "2023-06-13T06:27:52.813Z"
   },
   {
    "duration": 213,
    "start_time": "2023-06-13T06:27:52.881Z"
   },
   {
    "duration": 237,
    "start_time": "2023-06-13T06:27:53.096Z"
   },
   {
    "duration": 27,
    "start_time": "2023-06-13T06:27:53.335Z"
   },
   {
    "duration": 62,
    "start_time": "2023-06-13T06:27:53.364Z"
   },
   {
    "duration": 60,
    "start_time": "2023-06-13T06:27:53.428Z"
   },
   {
    "duration": 81,
    "start_time": "2023-06-13T06:27:53.490Z"
   },
   {
    "duration": 103,
    "start_time": "2023-06-13T06:27:53.574Z"
   },
   {
    "duration": 22,
    "start_time": "2023-06-13T06:27:59.239Z"
   },
   {
    "duration": 1652,
    "start_time": "2023-06-13T06:36:35.871Z"
   },
   {
    "duration": 1940,
    "start_time": "2023-06-13T06:36:37.525Z"
   },
   {
    "duration": 56,
    "start_time": "2023-06-13T06:36:39.470Z"
   },
   {
    "duration": 141,
    "start_time": "2023-06-13T06:36:39.529Z"
   },
   {
    "duration": 107,
    "start_time": "2023-06-13T06:36:39.671Z"
   },
   {
    "duration": 79,
    "start_time": "2023-06-13T06:36:39.781Z"
   },
   {
    "duration": 216,
    "start_time": "2023-06-13T06:36:39.862Z"
   },
   {
    "duration": 233,
    "start_time": "2023-06-13T06:36:40.080Z"
   },
   {
    "duration": 10,
    "start_time": "2023-06-13T06:36:40.317Z"
   },
   {
    "duration": 67,
    "start_time": "2023-06-13T06:36:40.330Z"
   },
   {
    "duration": 66,
    "start_time": "2023-06-13T06:36:40.398Z"
   },
   {
    "duration": 60,
    "start_time": "2023-06-13T06:36:40.467Z"
   },
   {
    "duration": 36,
    "start_time": "2023-06-13T06:36:40.528Z"
   },
   {
    "duration": 657,
    "start_time": "2023-06-13T06:36:40.566Z"
   },
   {
    "duration": 362,
    "start_time": "2023-06-13T06:36:41.225Z"
   }
  ],
  "kernelspec": {
   "display_name": "Python 3 (ipykernel)",
   "language": "python",
   "name": "python3"
  },
  "language_info": {
   "codemirror_mode": {
    "name": "ipython",
    "version": 3
   },
   "file_extension": ".py",
   "mimetype": "text/x-python",
   "name": "python",
   "nbconvert_exporter": "python",
   "pygments_lexer": "ipython3",
   "version": "3.11.5"
  },
  "toc": {
   "base_numbering": 1,
   "nav_menu": {
    "height": "270.99px",
    "width": "593.99px"
   },
   "number_sections": true,
   "sideBar": true,
   "skip_h1_title": true,
   "title_cell": "Table of Contents",
   "title_sidebar": "Contents",
   "toc_cell": false,
   "toc_position": {},
   "toc_section_display": true,
   "toc_window_display": false
  }
 },
 "nbformat": 4,
 "nbformat_minor": 2
}
